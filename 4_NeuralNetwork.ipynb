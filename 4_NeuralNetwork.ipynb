{
 "cells": [
  {
   "cell_type": "markdown",
   "metadata": {},
   "source": [
    "# From Neurons to Networks: Exploring Deep Learning Algorithms\n",
    "\n",
    "Roderick Perez, Ph.D.\n",
    "OMV"
   ]
  },
  {
   "cell_type": "markdown",
   "metadata": {},
   "source": [
    "---"
   ]
  },
  {
   "cell_type": "code",
   "execution_count": 270,
   "metadata": {},
   "outputs": [],
   "source": [
    "# Import libraries\n",
    "import numpy as np\n",
    "import matplotlib.pyplot as plt"
   ]
  },
  {
   "cell_type": "code",
   "execution_count": 271,
   "metadata": {},
   "outputs": [],
   "source": [
    "# ReLU activation function\n",
    "def relu(x):\n",
    "    return np.maximum(0, x)"
   ]
  },
  {
   "cell_type": "code",
   "execution_count": 272,
   "metadata": {},
   "outputs": [],
   "source": [
    "def relu_derivative(x):\n",
    "    return np.where(x > 0, 1, 0)"
   ]
  },
  {
   "cell_type": "code",
   "execution_count": 273,
   "metadata": {},
   "outputs": [],
   "source": [
    "# Mean Squared Error (MSE) and its derivative\n",
    "def mse(y_true, y_pred):\n",
    "    return np.mean((y_true - y_pred) ** 2)"
   ]
  },
  {
   "cell_type": "code",
   "execution_count": 274,
   "metadata": {},
   "outputs": [],
   "source": [
    "def mse_derivative(y_true, y_pred):\n",
    "    return -2 * (y_true - y_pred) / y_true.size"
   ]
  },
  {
   "cell_type": "code",
   "execution_count": 275,
   "metadata": {},
   "outputs": [],
   "source": [
    "# Forward pass through the network\n",
    "def forward_pass(inputs, weights, bias):\n",
    "    z = np.dot(weights, inputs) + bias\n",
    "    activated_output = relu(z)\n",
    "    return z, activated_output"
   ]
  },
  {
   "cell_type": "code",
   "execution_count": 276,
   "metadata": {},
   "outputs": [],
   "source": [
    "# Initialize the network parameters\n",
    "inputs = np.array([2, 1, 3, -2])  # Input layer with 4 values\n",
    "true_output = np.array([1, 0])   # True output we want (for training purposes)"
   ]
  },
  {
   "cell_type": "code",
   "execution_count": 277,
   "metadata": {},
   "outputs": [],
   "source": [
    "# Initialize random weights and biases\n",
    "input_size = inputs.shape[0]\n",
    "weights = np.random.randn(2, input_size) * np.sqrt(2 / input_size) # np.zeros((2, input_size))  #np.random.randn(2, input_size) * np.sqrt(2 / input_size)\n",
    "bias = np.ones(2)    "
   ]
  },
  {
   "cell_type": "code",
   "execution_count": 278,
   "metadata": {},
   "outputs": [
    {
     "data": {
      "text/plain": [
       "array([[-0.46266923, -0.29418539,  0.66506741, -0.98424194],\n",
       "       [-0.56539552,  1.23771886,  1.46958489, -0.28197092]])"
      ]
     },
     "execution_count": 278,
     "metadata": {},
     "output_type": "execute_result"
    }
   ],
   "source": [
    "weights"
   ]
  },
  {
   "cell_type": "code",
   "execution_count": 279,
   "metadata": {},
   "outputs": [
    {
     "data": {
      "text/plain": [
       "array([1., 1.])"
      ]
     },
     "execution_count": 279,
     "metadata": {},
     "output_type": "execute_result"
    }
   ],
   "source": [
    "bias"
   ]
  },
  {
   "cell_type": "code",
   "execution_count": 280,
   "metadata": {},
   "outputs": [],
   "source": [
    "# Training process\n",
    "def train(inputs, true_output, weights, bias, learning_rate, epochs):\n",
    "    errors = []\n",
    "\n",
    "    for epoch in range(epochs):\n",
    "        # Forward pass\n",
    "        z, hidden_output = forward_pass(inputs, weights, bias)\n",
    "\n",
    "        # Calculate error\n",
    "        error = mse(true_output, hidden_output)\n",
    "        errors.append(error)\n",
    "\n",
    "        # Backpropagation: Compute gradients\n",
    "        error_gradient = mse_derivative(true_output, hidden_output)\n",
    "        relu_grad = relu_derivative(z)\n",
    "        gradient = error_gradient * relu_grad\n",
    "        \n",
    "        # Update weights and biases (Gradient Descent)\n",
    "        weights_gradient = np.dot(gradient[:, np.newaxis], inputs[np.newaxis, :])\n",
    "        weights -= learning_rate * weights_gradient\n",
    "        #bias -= learning_rate * gradient\n",
    "\n",
    "        # Print progress\n",
    "        print(f\"Epoch {epoch+1}, Error: {error:.4f}\")\n",
    "\n",
    "    return weights, errors # bias"
   ]
  },
  {
   "cell_type": "code",
   "execution_count": 281,
   "metadata": {},
   "outputs": [],
   "source": [
    "# Set learning rate and number of iterations (epochs)\n",
    "learning_rate = 0.01\n",
    "epochs = 100"
   ]
  },
  {
   "cell_type": "code",
   "execution_count": 282,
   "metadata": {},
   "outputs": [
    {
     "name": "stdout",
     "output_type": "stream",
     "text": [
      "Epoch 1, Error: 22.2461\n",
      "Epoch 2, Error: 14.9583\n",
      "Epoch 3, Error: 10.0580\n",
      "Epoch 4, Error: 6.7630\n",
      "Epoch 5, Error: 4.5474\n",
      "Epoch 6, Error: 3.0577\n",
      "Epoch 7, Error: 2.0560\n",
      "Epoch 8, Error: 1.3824\n",
      "Epoch 9, Error: 0.9296\n",
      "Epoch 10, Error: 0.6250\n",
      "Epoch 11, Error: 0.4203\n",
      "Epoch 12, Error: 0.2826\n",
      "Epoch 13, Error: 0.1900\n",
      "Epoch 14, Error: 0.1278\n",
      "Epoch 15, Error: 0.0859\n",
      "Epoch 16, Error: 0.0578\n",
      "Epoch 17, Error: 0.0388\n",
      "Epoch 18, Error: 0.0261\n",
      "Epoch 19, Error: 0.0176\n",
      "Epoch 20, Error: 0.0118\n",
      "Epoch 21, Error: 0.0079\n",
      "Epoch 22, Error: 0.0053\n",
      "Epoch 23, Error: 0.0036\n",
      "Epoch 24, Error: 0.0024\n",
      "Epoch 25, Error: 0.0016\n",
      "Epoch 26, Error: 0.0011\n",
      "Epoch 27, Error: 0.0007\n",
      "Epoch 28, Error: 0.0005\n",
      "Epoch 29, Error: 0.0003\n",
      "Epoch 30, Error: 0.0002\n",
      "Epoch 31, Error: 0.0001\n",
      "Epoch 32, Error: 0.0001\n",
      "Epoch 33, Error: 0.0001\n",
      "Epoch 34, Error: 0.0000\n",
      "Epoch 35, Error: 0.0000\n",
      "Epoch 36, Error: 0.0000\n",
      "Epoch 37, Error: 0.0000\n",
      "Epoch 38, Error: 0.0000\n",
      "Epoch 39, Error: 0.0000\n",
      "Epoch 40, Error: 0.0000\n",
      "Epoch 41, Error: 0.0000\n",
      "Epoch 42, Error: 0.0000\n",
      "Epoch 43, Error: 0.0000\n",
      "Epoch 44, Error: 0.0000\n",
      "Epoch 45, Error: 0.0000\n",
      "Epoch 46, Error: 0.0000\n",
      "Epoch 47, Error: 0.0000\n",
      "Epoch 48, Error: 0.0000\n",
      "Epoch 49, Error: 0.0000\n",
      "Epoch 50, Error: 0.0000\n",
      "Epoch 51, Error: 0.0000\n",
      "Epoch 52, Error: 0.0000\n",
      "Epoch 53, Error: 0.0000\n",
      "Epoch 54, Error: 0.0000\n",
      "Epoch 55, Error: 0.0000\n",
      "Epoch 56, Error: 0.0000\n",
      "Epoch 57, Error: 0.0000\n",
      "Epoch 58, Error: 0.0000\n",
      "Epoch 59, Error: 0.0000\n",
      "Epoch 60, Error: 0.0000\n",
      "Epoch 61, Error: 0.0000\n",
      "Epoch 62, Error: 0.0000\n",
      "Epoch 63, Error: 0.0000\n",
      "Epoch 64, Error: 0.0000\n",
      "Epoch 65, Error: 0.0000\n",
      "Epoch 66, Error: 0.0000\n",
      "Epoch 67, Error: 0.0000\n",
      "Epoch 68, Error: 0.0000\n",
      "Epoch 69, Error: 0.0000\n",
      "Epoch 70, Error: 0.0000\n",
      "Epoch 71, Error: 0.0000\n",
      "Epoch 72, Error: 0.0000\n",
      "Epoch 73, Error: 0.0000\n",
      "Epoch 74, Error: 0.0000\n",
      "Epoch 75, Error: 0.0000\n",
      "Epoch 76, Error: 0.0000\n",
      "Epoch 77, Error: 0.0000\n",
      "Epoch 78, Error: 0.0000\n",
      "Epoch 79, Error: 0.0000\n",
      "Epoch 80, Error: 0.0000\n",
      "Epoch 81, Error: 0.0000\n",
      "Epoch 82, Error: 0.0000\n",
      "Epoch 83, Error: 0.0000\n",
      "Epoch 84, Error: 0.0000\n",
      "Epoch 85, Error: 0.0000\n",
      "Epoch 86, Error: 0.0000\n",
      "Epoch 87, Error: 0.0000\n",
      "Epoch 88, Error: 0.0000\n",
      "Epoch 89, Error: 0.0000\n",
      "Epoch 90, Error: 0.0000\n",
      "Epoch 91, Error: 0.0000\n",
      "Epoch 92, Error: 0.0000\n",
      "Epoch 93, Error: 0.0000\n",
      "Epoch 94, Error: 0.0000\n",
      "Epoch 95, Error: 0.0000\n",
      "Epoch 96, Error: 0.0000\n",
      "Epoch 97, Error: 0.0000\n",
      "Epoch 98, Error: 0.0000\n",
      "Epoch 99, Error: 0.0000\n",
      "Epoch 100, Error: 0.0000\n"
     ]
    }
   ],
   "source": [
    "# Train the network\n",
    "weights, errors = train(inputs, true_output, weights, bias, learning_rate, epochs)"
   ]
  },
  {
   "cell_type": "code",
   "execution_count": 283,
   "metadata": {},
   "outputs": [
    {
     "data": {
      "text/plain": [
       "array([[-0.76757615, -0.44663885,  0.20770703, -0.67933503],\n",
       "       [-1.24090933,  0.89996195,  0.45631417,  0.39354289]])"
      ]
     },
     "execution_count": 283,
     "metadata": {},
     "output_type": "execute_result"
    }
   ],
   "source": [
    "weights"
   ]
  },
  {
   "cell_type": "code",
   "execution_count": 284,
   "metadata": {},
   "outputs": [
    {
     "data": {
      "text/plain": [
       "array([1., 1.])"
      ]
     },
     "execution_count": 284,
     "metadata": {},
     "output_type": "execute_result"
    }
   ],
   "source": [
    "bias"
   ]
  },
  {
   "cell_type": "code",
   "execution_count": 285,
   "metadata": {},
   "outputs": [
    {
     "data": {
      "image/png": "[encoded data removed]",
      "text/plain": [
       "<Figure size 640x480 with 1 Axes>"
      ]
     },
     "metadata": {},
     "output_type": "display_data"
    }
   ],
   "source": [
    "# Plot the error over iterations\n",
    "plt.plot(range(epochs), errors, marker='o')\n",
    "plt.xlabel(\"Iteration (Epoch)\")\n",
    "plt.ylabel(\"Mean Squared Error\")\n",
    "plt.title(\"Error Reduction Over Iterations\")\n",
    "plt.grid()\n",
    "#plt.ylim(0, 1)\n",
    "plt.show()"
   ]
  },
  {
   "cell_type": "markdown",
   "metadata": {},
   "source": [
    "---"
   ]
  },
  {
   "cell_type": "markdown",
   "metadata": {},
   "source": [
    "## Make this changes:\n",
    "* Change the learning rate\n",
    "* Change the epochs\n",
    "* Change the weights to:\n",
    "    * Zeros\n",
    "    * Ones\n",
    "* Change the bias to:\n",
    "    * Zeros\n",
    "    * Ones"
   ]
  }
 ],
 "metadata": {
  "kernelspec": {
   "display_name": "Python 3",
   "language": "python",
   "name": "python3"
  },
  "language_info": {
   "codemirror_mode": {
    "name": "ipython",
    "version": 3
   },
   "file_extension": ".py",
   "mimetype": "text/x-python",
   "name": "python",
   "nbconvert_exporter": "python",
   "pygments_lexer": "ipython3",
   "version": "3.12.1"
  }
 },
 "nbformat": 4,
 "nbformat_minor": 2
}
