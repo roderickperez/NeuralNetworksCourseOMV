{
  "cells": [
    {
      "cell_type": "markdown",
      "id": "0bee91e2",
      "metadata": {},
      "source": [
        "# From Neurons to Networks: Exploring Deep Learning Algorithms\n",
        "\n",
        "Roderick Perez, Ph.D.\n",
        "OMV"
      ]
    },
    {
      "cell_type": "markdown",
      "id": "533f7385",
      "metadata": {},
      "source": [
        "---"
      ]
    },
    {
      "cell_type": "markdown",
      "id": "ae74fb5f",
      "metadata": {
        "id": "ae74fb5f"
      },
      "source": [
        "This tutorial will cover the essential Python concepts to prepare you for working with the Environmental Geophysics notebook.\n",
        "\n",
        "## Topics covered:\n",
        "- Basic Markdown and LaTeX\n",
        "- Variables and Data Types\n",
        "- Order in Python (Indexing)\n",
        "- Conditional Statements\n",
        "- Loops\n",
        "- Mathematical Operations\n",
        "- Functions\n",
        "- Libraries: Numpy, Matplotlib, Pandas, Scipy\n",
        "- Basic Plotting with Matplotlib\n",
        "- Basic Widgets with ipywidgets\n",
        "\n",
        "By the end of this tutorial, you should be able to understand the Python code in the Environmental Geophysics notebook and perform basic data analysis and visualization.\n"
      ]
    },
    {
      "cell_type": "markdown",
      "id": "8c6f3868",
      "metadata": {
        "id": "8c6f3868"
      },
      "source": [
        "\n",
        "## Markdown and LaTeX in Jupyter\n",
        "\n",
        "Markdown is a simple way to format text in Jupyter Notebooks. For example, you can use:\n",
        "\n",
        "- `#` for headings.\n",
        "- `**bold**` for bold text.\n",
        "- `*italics*` for italic text.\n",
        "- `1.`, `2.` for numbered lists.\n",
        "\n",
        "LaTeX is used for writing mathematical equations. For example, the equation for a line is written as:\n",
        "\n",
        "$$ y = mx + b $$\n",
        "\n",
        "Try creating your own headings, lists, and equations using markdown and LaTeX in the next cell.\n"
      ]
    },
    {
      "cell_type": "markdown",
      "id": "6c279766",
      "metadata": {
        "id": "6c279766"
      },
      "source": [
        "\n",
        "## Variables and Data Types\n",
        "\n",
        "In Python, we can store values in variables. Some common data types include:\n",
        "\n",
        "- `int`: integer numbers (e.g., 5)\n",
        "- `float`: decimal numbers (e.g., 3.14)\n",
        "- `str`: strings (e.g., \"Hello, world!\")\n",
        "- `bool`: boolean values (`True` or `False`)\n",
        "\n",
        "We can create variables and assign values to them like this:\n"
      ]
    },
    {
      "cell_type": "code",
      "execution_count": 3,
      "id": "b93807cf",
      "metadata": {},
      "outputs": [],
      "source": [
        "# Integer\n",
        "x =  2          "
      ]
    },
    {
      "cell_type": "code",
      "execution_count": null,
      "id": "be67d320",
      "metadata": {},
      "outputs": [],
      "source": [
        "print(\"x:\", x)"
      ]
    },
    {
      "cell_type": "markdown",
      "id": "f77658b8",
      "metadata": {},
      "source": [
        "---"
      ]
    },
    {
      "cell_type": "code",
      "execution_count": null,
      "id": "b4abe5d2",
      "metadata": {},
      "outputs": [],
      "source": [
        "# Float\n",
        "y =  3.14\n",
        "print(\"y:\", y)       "
      ]
    },
    {
      "cell_type": "code",
      "execution_count": null,
      "id": "0d8ec1dd",
      "metadata": {},
      "outputs": [],
      "source": [
        "# String\n",
        "name = \"Eleana\"\n",
        "print(\"name:\", name)"
      ]
    },
    {
      "cell_type": "code",
      "execution_count": null,
      "id": "2b2da3d2",
      "metadata": {
        "colab": {
          "base_uri": "https://localhost:8080/",
          "height": 106
        },
        "id": "2b2da3d2",
        "outputId": "1a093d90-5b30-4618-f1a8-225aad6d85a3"
      },
      "outputs": [],
      "source": [
        "# Boolean\n",
        "is_python_fun = True # boolean\n",
        "print(\"Is Python fun?\", is_python_fun)\n"
      ]
    },
    {
      "cell_type": "markdown",
      "id": "00ba786e",
      "metadata": {
        "id": "00ba786e"
      },
      "source": [
        "\n",
        "## Indexing in Python\n",
        "\n",
        "Python uses 0-based indexing. This means the first element of a list or string has index 0. Negative indexing starts from the end.\n",
        "\n",
        "Example:\n"
      ]
    },
    {
      "cell_type": "code",
      "execution_count": 7,
      "id": "8fe7d72e",
      "metadata": {},
      "outputs": [],
      "source": [
        "# Define a list, using numbers (integers if floats)\n",
        "\n",
        "# Example of indexing\n",
        "my_list = [ 1, 2, 3, 4, 5]"
      ]
    },
    {
      "cell_type": "code",
      "execution_count": null,
      "id": "3cc61c2d",
      "metadata": {
        "colab": {
          "base_uri": "https://localhost:8080/"
        },
        "id": "3cc61c2d",
        "outputId": "1f726617-bfbb-48fc-a8c4-31ca18d06e90"
      },
      "outputs": [],
      "source": [
        "# What is the FIRST element?\n",
        "print(\"First element:\", my_list[0])  # first"
      ]
    },
    {
      "cell_type": "code",
      "execution_count": null,
      "id": "a86af39e",
      "metadata": {},
      "outputs": [],
      "source": [
        "# What is the LAST element?\n",
        "print(\"Last element:\", my_list[-1])  # last"
      ]
    },
    {
      "cell_type": "markdown",
      "id": "999df7b4",
      "metadata": {
        "id": "999df7b4"
      },
      "source": [
        "\n",
        "## Conditional Statements\n",
        "\n",
        "Python allows you to use conditional statements to control the flow of your program. For example:\n",
        "\n",
        "- `if` checks if a condition is `True`.\n",
        "- `elif` (else if) checks another condition if the first one is false.\n",
        "- `else` runs if no conditions are `True`.\n",
        "\n",
        "Example:\n"
      ]
    },
    {
      "cell_type": "code",
      "execution_count": null,
      "id": "94283a20",
      "metadata": {
        "colab": {
          "base_uri": "https://localhost:8080/"
        },
        "id": "94283a20",
        "outputId": "c546f693-4515-4d21-bf54-6a9f2d09e17f"
      },
      "outputs": [],
      "source": [
        "\n",
        "# Example of conditional statements\n",
        "age = 42\n",
        "\n",
        "if age < 18 :\n",
        "    print(\"You are a minor.\")\n",
        "elif 18 <= age <65 :\n",
        "    print(\"You are an adult.\")\n",
        "else:\n",
        "    print(\"You are a senior citizen.\")\n"
      ]
    },
    {
      "cell_type": "markdown",
      "id": "e9ffd481",
      "metadata": {
        "id": "e9ffd481"
      },
      "source": [
        "\n",
        "## Loops in Python\n",
        "\n",
        "Python has two main types of loops:\n",
        "\n",
        "- `for` loops to iterate over a sequence (like a list or string).\n",
        "- `while` loops that run until a condition is met.\n",
        "\n",
        "Examples:\n"
      ]
    },
    {
      "cell_type": "code",
      "execution_count": null,
      "id": "421a125f",
      "metadata": {},
      "outputs": [],
      "source": [
        "help(range)"
      ]
    },
    {
      "cell_type": "code",
      "execution_count": null,
      "id": "3f72f52a",
      "metadata": {},
      "outputs": [],
      "source": [
        "range?"
      ]
    },
    {
      "cell_type": "code",
      "execution_count": null,
      "id": "2f65393d",
      "metadata": {},
      "outputs": [],
      "source": [
        "# Example of a for loop\n",
        "for i in range(2):\n",
        "    print(\"Iteration\", i)"
      ]
    },
    {
      "cell_type": "code",
      "execution_count": 20,
      "id": "bf1d690b",
      "metadata": {
        "id": "bf1d690b"
      },
      "outputs": [],
      "source": [
        "# Example of a while loop\n",
        "count = 5\n",
        "while count < 15:\n",
        "    print(\"Counting:\", count)\n",
        "    count += 1\n"
      ]
    },
    {
      "cell_type": "markdown",
      "id": "bbf90343",
      "metadata": {
        "id": "bbf90343"
      },
      "source": [
        "\n",
        "## Basic Numpy\n",
        "\n",
        "Numpy is a powerful library for numerical computing in Python. You can create arrays and perform mathematical operations easily.\n",
        "\n",
        "Example:\n"
      ]
    },
    {
      "cell_type": "code",
      "execution_count": 24,
      "id": "c9cc104a",
      "metadata": {},
      "outputs": [],
      "source": [
        "import numpy as np"
      ]
    },
    {
      "cell_type": "code",
      "execution_count": null,
      "id": "e3b943f3",
      "metadata": {},
      "outputs": [],
      "source": [
        "# Create a numpy array and perform basic operations\n",
        "arr = np.array([ 5, 5, 4, 3, 3])\n",
        "print(\"Original array:\", arr)"
      ]
    },
    {
      "cell_type": "code",
      "execution_count": null,
      "id": "83251ae2",
      "metadata": {},
      "outputs": [],
      "source": [
        "arr.shape"
      ]
    },
    {
      "cell_type": "code",
      "execution_count": null,
      "id": "80f3767f",
      "metadata": {
        "id": "80f3767f"
      },
      "outputs": [],
      "source": [
        "# Perform mathematical operations => square each element\n",
        "arr_squared = arr ** 2\n",
        "print(\"Squared array:\", arr_squared)\n"
      ]
    },
    {
      "cell_type": "code",
      "execution_count": 30,
      "id": "77c98c7f",
      "metadata": {},
      "outputs": [],
      "source": [
        "arr1 = np.array([ 5, 5, 4, 3, 3])\n",
        "arr2 = np.array([ 5, 5, 4, 3])"
      ]
    },
    {
      "cell_type": "code",
      "execution_count": null,
      "id": "ffc67ddf",
      "metadata": {},
      "outputs": [],
      "source": [
        "result = arr1 * arr2"
      ]
    },
    {
      "cell_type": "markdown",
      "id": "0b070a67",
      "metadata": {
        "id": "0b070a67"
      },
      "source": [
        "\n",
        "## Basic Matplotlib\n",
        "\n",
        "Matplotlib is a popular library for creating plots and visualizations in Python.\n",
        "\n",
        "Example of a simple line plot:\n"
      ]
    },
    {
      "cell_type": "code",
      "execution_count": 35,
      "id": "f981f9bf",
      "metadata": {},
      "outputs": [],
      "source": [
        "import matplotlib.pyplot as plt"
      ]
    },
    {
      "cell_type": "code",
      "execution_count": 40,
      "id": "9672fadd",
      "metadata": {},
      "outputs": [],
      "source": [
        "# Create a simple line plot\n",
        "x = np.linspace( 1, 100, 100)\n",
        "y = np.sin(x)"
      ]
    },
    {
      "cell_type": "code",
      "execution_count": null,
      "id": "861bc5bf",
      "metadata": {},
      "outputs": [],
      "source": [
        "plt.plot(x, y)\n",
        "plt.show()"
      ]
    },
    {
      "cell_type": "code",
      "execution_count": null,
      "id": "e8b0ae08",
      "metadata": {
        "id": "e8b0ae08"
      },
      "outputs": [],
      "source": [
        "plt.plot(x, y)\n",
        "# Add title and labels (replace _______ with the correct function)\n",
        "plt.title(\"Sine Wave\") # Add title\n",
        "plt.xlabel(\"x\") # X label\n",
        "plt.ylabel(\"sin(x)\") # Y label\n",
        "plt.show()\n"
      ]
    },
    {
      "cell_type": "markdown",
      "id": "63475ff0",
      "metadata": {
        "id": "63475ff0"
      },
      "source": [
        "\n",
        "## Basic ipywidgets\n",
        "\n",
        "Ipywidgets allow you to create interactive controls like sliders. Here is a simple example:\n"
      ]
    },
    {
      "cell_type": "code",
      "execution_count": 1,
      "id": "153ee2f8",
      "metadata": {},
      "outputs": [
        {
          "name": "stdout",
          "output_type": "stream",
          "text": [
            "Requirement already satisfied: ipywidgets in /usr/local/python/3.12.1/lib/python3.12/site-packages (8.1.5)\n",
            "Requirement already satisfied: comm>=0.1.3 in /home/codespace/.local/lib/python3.12/site-packages (from ipywidgets) (0.2.2)\n",
            "Requirement already satisfied: ipython>=6.1.0 in /home/codespace/.local/lib/python3.12/site-packages (from ipywidgets) (8.27.0)\n",
            "Requirement already satisfied: traitlets>=4.3.1 in /home/codespace/.local/lib/python3.12/site-packages (from ipywidgets) (5.14.3)\n",
            "Requirement already satisfied: widgetsnbextension~=4.0.12 in /usr/local/python/3.12.1/lib/python3.12/site-packages (from ipywidgets) (4.0.13)\n",
            "Requirement already satisfied: jupyterlab-widgets~=3.0.12 in /usr/local/python/3.12.1/lib/python3.12/site-packages (from ipywidgets) (3.0.13)\n",
            "Requirement already satisfied: decorator in /home/codespace/.local/lib/python3.12/site-packages (from ipython>=6.1.0->ipywidgets) (5.1.1)\n",
            "Requirement already satisfied: jedi>=0.16 in /home/codespace/.local/lib/python3.12/site-packages (from ipython>=6.1.0->ipywidgets) (0.19.1)\n",
            "Requirement already satisfied: matplotlib-inline in /home/codespace/.local/lib/python3.12/site-packages (from ipython>=6.1.0->ipywidgets) (0.1.7)\n",
            "Requirement already satisfied: prompt-toolkit<3.1.0,>=3.0.41 in /home/codespace/.local/lib/python3.12/site-packages (from ipython>=6.1.0->ipywidgets) (3.0.48)\n",
            "Requirement already satisfied: pygments>=2.4.0 in /home/codespace/.local/lib/python3.12/site-packages (from ipython>=6.1.0->ipywidgets) (2.18.0)\n",
            "Requirement already satisfied: stack-data in /home/codespace/.local/lib/python3.12/site-packages (from ipython>=6.1.0->ipywidgets) (0.6.3)\n",
            "Requirement already satisfied: pexpect>4.3 in /home/codespace/.local/lib/python3.12/site-packages (from ipython>=6.1.0->ipywidgets) (4.9.0)\n",
            "Requirement already satisfied: parso<0.9.0,>=0.8.3 in /home/codespace/.local/lib/python3.12/site-packages (from jedi>=0.16->ipython>=6.1.0->ipywidgets) (0.8.4)\n",
            "Requirement already satisfied: ptyprocess>=0.5 in /home/codespace/.local/lib/python3.12/site-packages (from pexpect>4.3->ipython>=6.1.0->ipywidgets) (0.7.0)\n",
            "Requirement already satisfied: wcwidth in /home/codespace/.local/lib/python3.12/site-packages (from prompt-toolkit<3.1.0,>=3.0.41->ipython>=6.1.0->ipywidgets) (0.2.13)\n",
            "Requirement already satisfied: executing>=1.2.0 in /home/codespace/.local/lib/python3.12/site-packages (from stack-data->ipython>=6.1.0->ipywidgets) (2.1.0)\n",
            "Requirement already satisfied: asttokens>=2.1.0 in /home/codespace/.local/lib/python3.12/site-packages (from stack-data->ipython>=6.1.0->ipywidgets) (2.4.1)\n",
            "Requirement already satisfied: pure-eval in /home/codespace/.local/lib/python3.12/site-packages (from stack-data->ipython>=6.1.0->ipywidgets) (0.2.3)\n",
            "Requirement already satisfied: six>=1.12.0 in /home/codespace/.local/lib/python3.12/site-packages (from asttokens>=2.1.0->stack-data->ipython>=6.1.0->ipywidgets) (1.16.0)\n"
          ]
        }
      ],
      "source": [
        "!pip install ipywidgets"
      ]
    },
    {
      "cell_type": "code",
      "execution_count": 4,
      "id": "0b13b7c6",
      "metadata": {},
      "outputs": [
        {
          "data": {
            "application/vnd.jupyter.widget-view+json": {
              "model_id": "6f584eac699a4cc58569a25babef00b7",
              "version_major": 2,
              "version_minor": 0
            },
            "text/plain": [
              "interactive(children=(FloatSlider(value=1.0, description='frequency', max=10.0, min=1.0), Output()), _dom_clas…"
            ]
          },
          "metadata": {},
          "output_type": "display_data"
        }
      ],
      "source": [
        "# Make a plot that when you move the slider, the plot changes\n",
        "import ipywidgets as widgets\n",
        "from ipywidgets import interact\n",
        "import numpy as np\n",
        "import matplotlib.pyplot as plt\n",
        "\n",
        "def plot_sine_wave(frequency):\n",
        "    x = np.linspace(0, 10, 1000)\n",
        "    y = np.sin(frequency * x)\n",
        "    plt.plot(x, y)\n",
        "    plt.show()\n",
        "    \n",
        "interact(plot_sine_wave, frequency=widgets.FloatSlider(min=1, max=10, step=0.1, value=1))\n",
        "\n",
        "# Create a simple scatter plot\n",
        "x = np.random.rand(100)\n",
        "y = np.random.rand(100)\n",
        "\n",
        "plt.show()"
      ]
    },
    {
      "cell_type": "code",
      "execution_count": null,
      "id": "c94a45c3",
      "metadata": {},
      "outputs": [],
      "source": []
    }
  ],
  "metadata": {
    "colab": {
      "provenance": []
    },
    "kernelspec": {
      "display_name": "Python 3",
      "name": "python3"
    },
    "language_info": {
      "name": "python",
      "version": "3.12.1"
    },
    "widgets": {
      "application/vnd.jupyter.widget-state+json": {
        "0e552f39409d4bc89531c91a90c6dbb4": {
          "model_module": "@jupyter-widgets/base",
          "model_module_version": "1.2.0",
          "model_name": "LayoutModel",
          "state": {
            "_model_module": "@jupyter-widgets/base",
            "_model_module_version": "1.2.0",
            "_model_name": "LayoutModel",
            "_view_count": null,
            "_view_module": "@jupyter-widgets/base",
            "_view_module_version": "1.2.0",
            "_view_name": "LayoutView",
            "align_content": null,
            "align_items": null,
            "align_self": null,
            "border": null,
            "bottom": null,
            "display": null,
            "flex": null,
            "flex_flow": null,
            "grid_area": null,
            "grid_auto_columns": null,
            "grid_auto_flow": null,
            "grid_auto_rows": null,
            "grid_column": null,
            "grid_gap": null,
            "grid_row": null,
            "grid_template_areas": null,
            "grid_template_columns": null,
            "grid_template_rows": null,
            "height": null,
            "justify_content": null,
            "justify_items": null,
            "left": null,
            "margin": null,
            "max_height": null,
            "max_width": null,
            "min_height": null,
            "min_width": null,
            "object_fit": null,
            "object_position": null,
            "order": null,
            "overflow": null,
            "overflow_x": null,
            "overflow_y": null,
            "padding": null,
            "right": null,
            "top": null,
            "visibility": null,
            "width": null
          }
        },
        "a4ca137e9e364c7489c305fd2c5b8736": {
          "model_module": "@jupyter-widgets/controls",
          "model_module_version": "1.5.0",
          "model_name": "SliderStyleModel",
          "state": {
            "_model_module": "@jupyter-widgets/controls",
            "_model_module_version": "1.5.0",
            "_model_name": "SliderStyleModel",
            "_view_count": null,
            "_view_module": "@jupyter-widgets/base",
            "_view_module_version": "1.2.0",
            "_view_name": "StyleView",
            "description_width": "",
            "handle_color": null
          }
        },
        "c18687beeb3541efbf6e31ed2b9703cb": {
          "model_module": "@jupyter-widgets/controls",
          "model_module_version": "1.5.0",
          "model_name": "IntSliderModel",
          "state": {
            "_dom_classes": [],
            "_model_module": "@jupyter-widgets/controls",
            "_model_module_version": "1.5.0",
            "_model_name": "IntSliderModel",
            "_view_count": null,
            "_view_module": "@jupyter-widgets/controls",
            "_view_module_version": "1.5.0",
            "_view_name": "IntSliderView",
            "continuous_update": true,
            "description": "Slider:",
            "description_tooltip": null,
            "disabled": false,
            "layout": "IPY_MODEL_0e552f39409d4bc89531c91a90c6dbb4",
            "max": 100,
            "min": 0,
            "orientation": "horizontal",
            "readout": true,
            "readout_format": "d",
            "step": 1,
            "style": "IPY_MODEL_a4ca137e9e364c7489c305fd2c5b8736",
            "value": 16
          }
        }
      }
    }
  },
  "nbformat": 4,
  "nbformat_minor": 5
}
