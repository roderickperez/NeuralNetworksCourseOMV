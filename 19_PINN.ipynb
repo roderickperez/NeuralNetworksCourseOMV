{
 "cells": [
  {
   "cell_type": "markdown",
   "metadata": {},
   "source": [
    "# From Neurons to Networks: Exploring Deep Learning Algorithms\n",
    "\n",
    "Roderick Perez, Ph.D.\n",
    "OMV"
   ]
  },
  {
   "cell_type": "markdown",
   "metadata": {},
   "source": [
    "# What are PINNs?\n",
    "\n",
    "Physics-Informed Neural Networks (PINNs) are a special type of neural network that leverages prior knowledge of physics (typically in the form of differential equations) to guide the learning process. This helps the neural network learn more effectively when data is scarce or noisy by regularizing the network to follow known physical laws."
   ]
  },
  {
   "cell_type": "markdown",
   "metadata": {},
   "source": [
    "## Why Use PINNs?\n",
    "\n",
    "* **Regularization through physics**: PINNs reduce overfitting in situations where data is limited or noisy by embedding physical constraints (through differential equations) into the network's loss function.\n",
    "* **Real-world application**: This is particularly useful for modeling physical systems where collecting data is hard but the governing equations are known."
   ]
  },
  {
   "cell_type": "markdown",
   "metadata": {},
   "source": [
    "Example: Cooling of a Coffee Cup\n",
    "Let’s consider a simple real-world example of a cooling coffee cup. This system follows Newton’s Law of Cooling:"
   ]
  },
  {
   "cell_type": "code",
   "execution_count": 1,
   "metadata": {},
   "outputs": [],
   "source": [
    "import torch\n",
    "import torch.nn as nn\n",
    "import torch.autograd as autograd\n",
    "\n",
    "# Neural Network Model\n",
    "class Net(nn.Module):\n",
    "    def __init__(self):\n",
    "        super(Net, self).__init__()\n",
    "        self.fc1 = nn.Linear(1, 50)\n",
    "        self.fc2 = nn.Linear(50, 50)\n",
    "        self.fc3 = nn.Linear(50, 1)\n",
    "        self.r = nn.Parameter(torch.tensor([0.005]))  # Cooling rate parameter\n",
    "    \n",
    "    def forward(self, t):\n",
    "        x = torch.relu(self.fc1(t))\n",
    "        x = torch.relu(self.fc2(x))\n",
    "        x = self.fc3(x)\n",
    "        return x\n",
    "\n",
    "# Physics loss: PINN loss based on Newton's Law of Cooling\n",
    "def physics_loss(model, Tenv=25.0, ts=torch.linspace(0, 1000, steps=1000).view(-1,1)):\n",
    "    ts.requires_grad_(True)\n",
    "    temps = model(ts)\n",
    "    \n",
    "    # Compute gradient (derivative of temperature with respect to time)\n",
    "    dT_dt = autograd.grad(temps, ts, grad_outputs=torch.ones_like(temps), create_graph=True)[0]\n",
    "    \n",
    "    # Compute the physics-based loss (ODE)\n",
    "    ode = dT_dt + model.r * (temps - Tenv)\n",
    "    \n",
    "    # Return mean squared error of the ODE\n",
    "    return torch.mean(ode**2)\n",
    "\n",
    "# Data Loss (MSE)\n",
    "def data_loss(predicted, actual):\n",
    "    return torch.mean((predicted - actual)**2)\n",
    "\n",
    "# Training the PINN\n",
    "def train_pinn(model, data, epochs=1000):\n",
    "    optimizer = torch.optim.Adam(model.parameters(), lr=0.001)\n",
    "    for epoch in range(epochs):\n",
    "        model.train()\n",
    "\n",
    "        # Data Loss\n",
    "        pred = model(data[\"time\"])\n",
    "        loss_data = data_loss(pred, data[\"temp\"])\n",
    "\n",
    "        # Physics Loss\n",
    "        loss_phys = physics_loss(model)\n",
    "\n",
    "        # Total Loss\n",
    "        loss = loss_data + loss_phys\n",
    "        optimizer.zero_grad()\n",
    "        loss.backward()\n",
    "        optimizer.step()\n",
    "\n",
    "        if epoch % 100 == 0:\n",
    "            print(f\"Epoch {epoch}: Loss = {loss.item()}\")\n"
   ]
  },
  {
   "cell_type": "markdown",
   "metadata": {},
   "source": []
  },
  {
   "cell_type": "markdown",
   "metadata": {},
   "source": []
  }
 ],
 "metadata": {
  "kernelspec": {
   "display_name": "Python 3",
   "language": "python",
   "name": "python3"
  },
  "language_info": {
   "codemirror_mode": {
    "name": "ipython",
    "version": 3
   },
   "file_extension": ".py",
   "mimetype": "text/x-python",
   "name": "python",
   "nbconvert_exporter": "python",
   "pygments_lexer": "ipython3",
   "version": "3.12.1"
  }
 },
 "nbformat": 4,
 "nbformat_minor": 2
}
