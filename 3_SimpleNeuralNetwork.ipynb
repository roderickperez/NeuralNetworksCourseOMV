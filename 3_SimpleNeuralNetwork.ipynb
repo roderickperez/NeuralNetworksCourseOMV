{
 "cells": [
  {
   "cell_type": "markdown",
   "metadata": {},
   "source": [
    "# From Neurons to Networks: Exploring Deep Learning Algorithms\n",
    "\n",
    "Roderick Perez, Ph.D.\n",
    "OMV"
   ]
  },
  {
   "cell_type": "markdown",
   "metadata": {},
   "source": [
    "---"
   ]
  },
  {
   "cell_type": "code",
   "execution_count": 1,
   "metadata": {},
   "outputs": [],
   "source": [
    "# Import libraries\n",
    "import numpy as np\n",
    "import matplotlib.pyplot as plt"
   ]
  },
  {
   "cell_type": "code",
   "execution_count": 2,
   "metadata": {},
   "outputs": [],
   "source": [
    "# ReLU activation function\n",
    "def relu(x):\n",
    "    return np.maximum(0, x)"
   ]
  },
  {
   "cell_type": "code",
   "execution_count": 3,
   "metadata": {},
   "outputs": [],
   "source": [
    "# Forward pass through the network\n",
    "def forward_pass(inputs, weights, bias):\n",
    "    # Multiply inputs by weights and add bias (input to hidden layer)\n",
    "    z = np.dot(weights, inputs) + bias\n",
    "    # Apply ReLU activation function\n",
    "    activated_output = relu(z)\n",
    "    return activated_output"
   ]
  },
  {
   "cell_type": "code",
   "execution_count": 4,
   "metadata": {},
   "outputs": [],
   "source": [
    "# Sample inputs: 3 nodes (2, 1, 3)\n",
    "inputs = np.array([2, 1, 3, 1])"
   ]
  },
  {
   "cell_type": "code",
   "execution_count": 5,
   "metadata": {},
   "outputs": [],
   "source": [
    "# Weights and bias as specified\n",
    "weights = np.array([[1, 1, -1, 0], [0, 0, 1, -1]])\n",
    "bias = np.array([0, 1])"
   ]
  },
  {
   "cell_type": "code",
   "execution_count": 6,
   "metadata": {},
   "outputs": [],
   "source": [
    "# Forward pass to get the output from the hidden layer\n",
    "hidden_output = forward_pass(inputs, weights, bias)"
   ]
  },
  {
   "cell_type": "code",
   "execution_count": null,
   "metadata": {},
   "outputs": [],
   "source": [
    "# Print results\n",
    "print(\"Input to hidden layer:\", hidden_output)"
   ]
  },
  {
   "cell_type": "code",
   "execution_count": null,
   "metadata": {},
   "outputs": [],
   "source": [
    "# Visualization using matplotlib\n",
    "plt.bar(range(len(hidden_output)), hidden_output, color=['blue', 'green'])\n",
    "plt.xlabel(\"Hidden Layer Nodes\")\n",
    "plt.ylabel(\"Activation Value (ReLU)\")\n",
    "plt.title(\"Hidden Layer Activations After Forward Pass\")\n",
    "plt.show()"
   ]
  }
 ],
 "metadata": {
  "kernelspec": {
   "display_name": "Python 3",
   "language": "python",
   "name": "python3"
  },
  "language_info": {
   "codemirror_mode": {
    "name": "ipython",
    "version": 3
   },
   "file_extension": ".py",
   "mimetype": "text/x-python",
   "name": "python",
   "nbconvert_exporter": "python",
   "pygments_lexer": "ipython3",
   "version": "3.12.1"
  }
 },
 "nbformat": 4,
 "nbformat_minor": 2
}
